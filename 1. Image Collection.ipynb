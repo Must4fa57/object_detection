{
 "cells": [
  {
   "cell_type": "markdown",
   "metadata": {},
   "source": [
    "# 1. Import Dependencies"
   ]
  },
  {
   "cell_type": "code",
   "execution_count": 1,
   "metadata": {},
   "outputs": [
    {
     "name": "stdout",
     "output_type": "stream",
     "text": [
      "Requirement already satisfied: opencv-python in c:\\users\\comtech 0312811806\\desktop\\object_detection\\tfodcourse\\tfod\\lib\\site-packages (4.9.0.80)\n",
      "Requirement already satisfied: numpy>=1.21.2 in c:\\users\\comtech 0312811806\\desktop\\object_detection\\tfodcourse\\tfod\\lib\\site-packages (from opencv-python) (1.26.4)\n"
     ]
    }
   ],
   "source": [
    "!pip install opencv-python\n"
   ]
  },
  {
   "cell_type": "code",
   "execution_count": 2,
   "metadata": {},
   "outputs": [],
   "source": [
    "# Import opencv\n",
    "import cv2 \n",
    "\n",
    "# Import uuid\n",
    "import uuid\n",
    "\n",
    "# Import Operating System\n",
    "import os\n",
    "\n",
    "# Import time\n",
    "import time"
   ]
  },
  {
   "cell_type": "markdown",
   "metadata": {},
   "source": [
    "# 2. Define Images to Collect"
   ]
  },
  {
   "cell_type": "code",
   "execution_count": 3,
   "metadata": {},
   "outputs": [],
   "source": [
    "labels = ['thumbsup', 'thumbsdown', 'thankyou', 'livelong']\n",
    "number_imgs = 5"
   ]
  },
  {
   "cell_type": "markdown",
   "metadata": {},
   "source": [
    "# 3. Setup Folders "
   ]
  },
  {
   "cell_type": "code",
   "execution_count": 3,
   "metadata": {
    "scrolled": true
   },
   "outputs": [
    {
     "name": "stdout",
     "output_type": "stream",
     "text": [
      "Tensorflow\\workspace\\images\\collectedimages\n"
     ]
    }
   ],
   "source": [
    "IMAGES_PATH = os.path.join('Tensorflow', 'workspace', 'images', 'collectedimages')\n",
    "print(IMAGES_PATH)\n"
   ]
  },
  {
   "cell_type": "code",
   "execution_count": 16,
   "metadata": {},
   "outputs": [],
   "source": [
    "if not os.path.exists(IMAGES_PATH):\n",
    "    if os.name == 'posix':\n",
    "        !mkdir -p {IMAGES_PATH}\n",
    "    if os.name == 'nt':\n",
    "         !mkdir {IMAGES_PATH}\n",
    "for label in labels:\n",
    "    path = os.path.join(IMAGES_PATH, label)\n",
    "    if not os.path.exists(path):\n",
    "        !mkdir {path}"
   ]
  },
  {
   "cell_type": "markdown",
   "metadata": {},
   "source": [
    "# 4. Capture Images"
   ]
  },
  {
   "cell_type": "code",
   "execution_count": 18,
   "metadata": {},
   "outputs": [
    {
     "name": "stdout",
     "output_type": "stream",
     "text": [
      "Collecting images for thumbsup\n",
      "Collecting image 0\n",
      "Collecting image 1\n",
      "Collecting image 2\n",
      "Collecting image 3\n",
      "Collecting image 4\n",
      "Collecting images for thumbsdown\n",
      "Collecting image 0\n",
      "Collecting image 1\n",
      "Collecting image 2\n",
      "Collecting image 3\n",
      "Collecting image 4\n",
      "Collecting images for thankyou\n",
      "Collecting image 0\n",
      "Collecting image 1\n",
      "Collecting image 2\n",
      "Collecting image 3\n",
      "Collecting image 4\n",
      "Collecting images for livelong\n",
      "Collecting image 0\n",
      "Collecting image 1\n",
      "Collecting image 2\n",
      "Collecting image 3\n",
      "Collecting image 4\n"
     ]
    }
   ],
   "source": [
    "for label in labels:\n",
    "    cap = cv2.VideoCapture(0)\n",
    "    print('Collecting images for {}'.format(label))\n",
    "    time.sleep(5)\n",
    "    for imgnum in range(number_imgs):\n",
    "        print('Collecting image {}'.format(imgnum))\n",
    "        ret, frame = cap.read()\n",
    "        imgname = os.path.join(IMAGES_PATH,label,label+'.'+'{}.jpg'.format(str(uuid.uuid1())))\n",
    "        cv2.imwrite(imgname, frame)\n",
    "        cv2.imshow('frame', frame)\n",
    "        time.sleep(2)\n",
    "\n",
    "        if cv2.waitKey(1) & 0xFF == ord('q'):\n",
    "            break\n",
    "cap.release()\n",
    "cv2.destroyAllWindows()"
   ]
  },
  {
   "cell_type": "markdown",
   "metadata": {},
   "source": [
    "# 5. Image Labelling"
   ]
  },
  {
   "cell_type": "code",
   "execution_count": 5,
   "metadata": {},
   "outputs": [
    {
     "name": "stdout",
     "output_type": "stream",
     "text": [
      "Requirement already satisfied: pyqt5 in c:\\users\\comtech 0312811806\\desktop\\object_detection\\tfodcourse\\tfod\\lib\\site-packages (5.15.10)\n",
      "Requirement already satisfied: lxml in c:\\users\\comtech 0312811806\\desktop\\object_detection\\tfodcourse\\tfod\\lib\\site-packages (5.1.0)\n",
      "Requirement already satisfied: PyQt5-sip<13,>=12.13 in c:\\users\\comtech 0312811806\\desktop\\object_detection\\tfodcourse\\tfod\\lib\\site-packages (from pyqt5) (12.13.0)\n",
      "Requirement already satisfied: PyQt5-Qt5>=5.15.2 in c:\\users\\comtech 0312811806\\desktop\\object_detection\\tfodcourse\\tfod\\lib\\site-packages (from pyqt5) (5.15.2)\n"
     ]
    }
   ],
   "source": [
    "!pip install --upgrade pyqt5 lxml"
   ]
  },
  {
   "cell_type": "code",
   "execution_count": 17,
   "metadata": {},
   "outputs": [
    {
     "name": "stdout",
     "output_type": "stream",
     "text": [
      "Package                      Version\n",
      "---------------------------- ---------\n",
      "absl-py                      2.0.0\n",
      "astunparse                   1.6.3\n",
      "cachetools                   5.3.1\n",
      "certifi                      2023.7.22\n",
      "charset-normalizer           3.2.0\n",
      "contourpy                    1.1.1\n",
      "cycler                       0.11.0\n",
      "distlib                      0.3.7\n",
      "filelock                     3.12.4\n",
      "flatbuffers                  23.5.26\n",
      "fonttools                    4.42.1\n",
      "gast                         0.4.0\n",
      "google-auth                  2.23.0\n",
      "google-auth-oauthlib         1.0.0\n",
      "google-pasta                 0.2.0\n",
      "grpcio                       1.58.0\n",
      "h5py                         3.9.0\n",
      "idna                         3.4\n",
      "keras                        2.13.1\n",
      "kiwisolver                   1.4.5\n",
      "libclang                     16.0.6\n",
      "lxml                         5.1.0\n",
      "Markdown                     3.4.4\n",
      "MarkupSafe                   2.1.3\n",
      "matplotlib                   3.8.0\n",
      "MouseInfo                    0.1.3\n",
      "numpy                        1.24.3\n",
      "oauthlib                     3.2.2\n",
      "opencv-python                4.9.0.80\n",
      "opt-einsum                   3.3.0\n",
      "packaging                    23.1\n",
      "Pillow                       10.0.1\n",
      "pip                          23.2.1\n",
      "platformdirs                 3.10.0\n",
      "protobuf                     4.24.3\n",
      "pyasn1                       0.5.0\n",
      "pyasn1-modules               0.3.0\n",
      "PyAutoGUI                    0.9.54\n",
      "pygame                       2.5.2\n",
      "PyGetWindow                  0.0.9\n",
      "PyMsgBox                     1.0.9\n",
      "pyparsing                    3.1.1\n",
      "pyperclip                    1.8.2\n",
      "PyQt5                        5.15.10\n",
      "PyQt5-Qt5                    5.15.2\n",
      "PyQt5-sip                    12.13.0\n",
      "PyRect                       0.2.0\n",
      "PyScreeze                    0.1.30\n",
      "python-dateutil              2.8.2\n",
      "pytweening                   1.0.7\n",
      "requests                     2.31.0\n",
      "requests-oauthlib            1.3.1\n",
      "rsa                          4.9\n",
      "setuptools                   65.5.0\n",
      "six                          1.16.0\n",
      "tensorboard                  2.13.0\n",
      "tensorboard-data-server      0.7.1\n",
      "tensorflow                   2.13.0\n",
      "tensorflow-estimator         2.13.0\n",
      "tensorflow-intel             2.13.0\n",
      "tensorflow-io-gcs-filesystem 0.31.0\n",
      "termcolor                    2.3.0\n",
      "typing_extensions            4.5.0\n",
      "urllib3                      1.26.16\n",
      "utils                        1.0.2\n",
      "utils-misc                   0.1.0\n",
      "virtualenv                   20.24.5\n",
      "Werkzeug                     2.3.7\n",
      "wheel                        0.41.2\n",
      "wrapt                        1.15.0\n"
     ]
    },
    {
     "name": "stderr",
     "output_type": "stream",
     "text": [
      "\n",
      "[notice] A new release of pip is available: 23.2.1 -> 24.0\n",
      "[notice] To update, run: python.exe -m pip install --upgrade pip\n"
     ]
    }
   ],
   "source": [
    "!pip list"
   ]
  },
  {
   "cell_type": "code",
   "execution_count": 4,
   "metadata": {},
   "outputs": [],
   "source": [
    "LABELIMG_PATH = os.path.join('Tensorflow', 'labelimg')"
   ]
  },
  {
   "cell_type": "code",
   "execution_count": 45,
   "metadata": {},
   "outputs": [
    {
     "data": {
      "text/plain": [
       "'Tensorflow\\\\labelimg'"
      ]
     },
     "execution_count": 45,
     "metadata": {},
     "output_type": "execute_result"
    }
   ],
   "source": [
    "LABELIMG_PATH\n"
   ]
  },
  {
   "cell_type": "code",
   "execution_count": 6,
   "metadata": {},
   "outputs": [],
   "source": [
    "if not os.path.exists(LABELIMG_PATH):\n",
    "    !mkdir {LABELIMG_PATH}\n",
    "    !git clone https://github.com/tzutalin/labelImg {LABELIMG_PATH}"
   ]
  },
  {
   "cell_type": "code",
   "execution_count": 7,
   "metadata": {},
   "outputs": [],
   "source": [
    "if os.name == 'posix':\n",
    "    !make qt5py3\n",
    "if os.name =='nt':\n",
    "    !cd {LABELIMG_PATH} && pyrcc5 -o libs/resources.py resources.qrc"
   ]
  },
  {
   "cell_type": "code",
   "execution_count": 5,
   "metadata": {},
   "outputs": [
    {
     "name": "stdout",
     "output_type": "stream",
     "text": [
      "Image:C:\\Users\\COMTECH 0312811806\\Desktop\\object_detection\\TFODCourse\\Tensorflow\\workspace\\images\\collectedimages\\thumbsdown\\thumbsdown.42cbc0d1-d39a-11ee-baad-bce92fc065c8.jpg -> Annotation:C:/Users/COMTECH 0312811806/Desktop/object_detection/TFODCourse/Tensorflow/workspace/images/collectedimages/thumbsdown\\thumbsdown.42cbc0d1-d39a-11ee-baad-bce92fc065c8.xml\n",
      "Image:C:\\Users\\COMTECH 0312811806\\Desktop\\object_detection\\TFODCourse\\Tensorflow\\workspace\\images\\collectedimages\\thumbsdown\\thumbsdown.4197ec6f-d39a-11ee-8768-bce92fc065c8.jpg -> Annotation:C:/Users/COMTECH 0312811806/Desktop/object_detection/TFODCourse/Tensorflow/workspace/images/collectedimages/thumbsdown\\thumbsdown.4197ec6f-d39a-11ee-8768-bce92fc065c8.xml\n",
      "Image:C:\\Users\\COMTECH 0312811806\\Desktop\\object_detection\\TFODCourse\\Tensorflow\\workspace\\images\\collectedimages\\thumbsdown\\thumbsdown.406498ae-d39a-11ee-95f0-bce92fc065c8.jpg -> Annotation:C:/Users/COMTECH 0312811806/Desktop/object_detection/TFODCourse/Tensorflow/workspace/images/collectedimages/thumbsdown\\thumbsdown.406498ae-d39a-11ee-95f0-bce92fc065c8.xml\n",
      "Image:C:\\Users\\COMTECH 0312811806\\Desktop\\object_detection\\TFODCourse\\Tensorflow\\workspace\\images\\collectedimages\\thumbsdown\\thumbsdown.440250de-d39a-11ee-bc50-bce92fc065c8.jpg -> Annotation:C:/Users/COMTECH 0312811806/Desktop/object_detection/TFODCourse/Tensorflow/workspace/images/collectedimages/thumbsdown\\thumbsdown.440250de-d39a-11ee-bc50-bce92fc065c8.xml\n",
      "Image:C:\\Users\\COMTECH 0312811806\\Desktop\\object_detection\\TFODCourse\\Tensorflow\\workspace\\images\\collectedimages\\thumbsdown\\thumbsdown.453585a3-d39a-11ee-b8f8-bce92fc065c8.jpg -> Annotation:C:/Users/COMTECH 0312811806/Desktop/object_detection/TFODCourse/Tensorflow/workspace/images/collectedimages/thumbsdown\\thumbsdown.453585a3-d39a-11ee-b8f8-bce92fc065c8.xml\n",
      "Image:C:\\Users\\COMTECH 0312811806\\Desktop\\object_detection\\TFODCourse\\Tensorflow\\workspace\\images\\collectedimages\\thumbsdown\\thumbsdown.453585a3-d39a-11ee-b8f8-bce92fc065c8.jpg -> Annotation:C:/Users/COMTECH 0312811806/Desktop/object_detection/TFODCourse/Tensorflow/workspace/images/collectedimages/thumbsdown\\thumbsdown.453585a3-d39a-11ee-b8f8-bce92fc065c8.xml\n",
      "Image:C:\\Users\\COMTECH 0312811806\\Desktop\\object_detection\\TFODCourse\\Tensorflow\\workspace\\images\\collectedimages\\thumbsup\\thumbsup.3b9670c2-d39a-11ee-a242-bce92fc065c8.jpg -> Annotation:C:/Users/COMTECH 0312811806/Desktop/object_detection/TFODCourse/Tensorflow/workspace/images/collectedimages/thumbsup\\thumbsup.3b9670c2-d39a-11ee-a242-bce92fc065c8.xml\n",
      "Image:C:\\Users\\COMTECH 0312811806\\Desktop\\object_detection\\TFODCourse\\Tensorflow\\workspace\\images\\collectedimages\\thumbsup\\thumbsup.392cfb4f-d39a-11ee-921a-bce92fc065c8.jpg -> Annotation:C:/Users/COMTECH 0312811806/Desktop/object_detection/TFODCourse/Tensorflow/workspace/images/collectedimages/thumbsup\\thumbsup.392cfb4f-d39a-11ee-921a-bce92fc065c8.xml\n",
      "Image:C:\\Users\\COMTECH 0312811806\\Desktop\\object_detection\\TFODCourse\\Tensorflow\\workspace\\images\\collectedimages\\thumbsup\\thumbsup.3a60ee76-d39a-11ee-aa9e-bce92fc065c8.jpg -> Annotation:C:/Users/COMTECH 0312811806/Desktop/object_detection/TFODCourse/Tensorflow/workspace/images/collectedimages/thumbsup/thumbsup.3a60ee76-d39a-11ee-aa9e-bce92fc065c8.xml\n",
      "Image:C:\\Users\\COMTECH 0312811806\\Desktop\\object_detection\\TFODCourse\\Tensorflow\\workspace\\images\\collectedimages\\thumbsup\\thumbsup.3b9670c2-d39a-11ee-a242-bce92fc065c8.jpg -> Annotation:C:/Users/COMTECH 0312811806/Desktop/object_detection/TFODCourse/Tensorflow/workspace/images/collectedimages/thumbsup/thumbsup.3b9670c2-d39a-11ee-a242-bce92fc065c8.xml\n",
      "Image:C:\\Users\\COMTECH 0312811806\\Desktop\\object_detection\\TFODCourse\\Tensorflow\\workspace\\images\\collectedimages\\thumbsup\\thumbsup.36c3ea12-d39a-11ee-bf76-bce92fc065c8.jpg -> Annotation:C:/Users/COMTECH 0312811806/Desktop/object_detection/TFODCourse/Tensorflow/workspace/images/collectedimages/thumbsup/thumbsup.36c3ea12-d39a-11ee-bf76-bce92fc065c8.xml\n",
      "Image:C:\\Users\\COMTECH 0312811806\\Desktop\\object_detection\\TFODCourse\\Tensorflow\\workspace\\images\\collectedimages\\thumbsup\\thumbsup.37f9961a-d39a-11ee-8feb-bce92fc065c8.jpg -> Annotation:C:/Users/COMTECH 0312811806/Desktop/object_detection/TFODCourse/Tensorflow/workspace/images/collectedimages/thumbsup/thumbsup.37f9961a-d39a-11ee-8feb-bce92fc065c8.xml\n",
      "Image:C:\\Users\\COMTECH 0312811806\\Desktop\\object_detection\\TFODCourse\\Tensorflow\\workspace\\images\\collectedimages\\thumbsup\\thumbsup.392cfb4f-d39a-11ee-921a-bce92fc065c8.jpg -> Annotation:C:/Users/COMTECH 0312811806/Desktop/object_detection/TFODCourse/Tensorflow/workspace/images/collectedimages/thumbsup/thumbsup.392cfb4f-d39a-11ee-921a-bce92fc065c8.xml\n"
     ]
    }
   ],
   "source": [
    "!cd {LABELIMG_PATH} && python labelImg.py"
   ]
  },
  {
   "cell_type": "markdown",
   "metadata": {},
   "source": [
    "# 6. Move them into a Training and Testing Partition"
   ]
  },
  {
   "cell_type": "markdown",
   "metadata": {},
   "source": [
    "# OPTIONAL - 7. Compress them for Colab Training"
   ]
  },
  {
   "cell_type": "code",
   "execution_count": 20,
   "metadata": {},
   "outputs": [],
   "source": [
    "TRAIN_PATH = os.path.join('Tensorflow', 'workspace', 'images', 'train')\n",
    "TEST_PATH = os.path.join('Tensorflow', 'workspace', 'images', 'test')\n",
    "ARCHIVE_PATH = os.path.join('Tensorflow', 'workspace', 'images', 'archive.tar.gz')"
   ]
  },
  {
   "cell_type": "code",
   "execution_count": 21,
   "metadata": {},
   "outputs": [],
   "source": [
    "!tar -czf {ARCHIVE_PATH} {TRAIN_PATH} {TEST_PATH}"
   ]
  },
  {
   "cell_type": "code",
   "execution_count": null,
   "metadata": {},
   "outputs": [],
   "source": []
  }
 ],
 "metadata": {
  "kernelspec": {
   "display_name": "Python 3 (ipykernel)",
   "language": "python",
   "name": "python3"
  },
  "language_info": {
   "codemirror_mode": {
    "name": "ipython",
    "version": 3
   },
   "file_extension": ".py",
   "mimetype": "text/x-python",
   "name": "python",
   "nbconvert_exporter": "python",
   "pygments_lexer": "ipython3",
   "version": "3.11.5"
  }
 },
 "nbformat": 4,
 "nbformat_minor": 2
}
